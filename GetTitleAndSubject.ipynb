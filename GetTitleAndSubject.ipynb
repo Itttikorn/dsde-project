{
 "cells": [
  {
   "cell_type": "code",
   "execution_count": 1,
   "metadata": {},
   "outputs": [],
   "source": [
    "import os\n",
    "import json\n",
    "import pandas as pd\n",
    "from glob import glob"
   ]
  },
  {
   "cell_type": "code",
   "execution_count": 2,
   "metadata": {},
   "outputs": [],
   "source": [
    "# Get a list of all JSON files in the folder\n",
    "file_paths2023 = glob(os.path.join('data/2023/','*'))\n",
    "file_paths2022 = glob(os.path.join('data/2022/','*'))\n",
    "file_paths2021 = glob(os.path.join('data/2021/','*'))\n",
    "file_paths2020 = glob(os.path.join('data/2020/','*'))\n",
    "file_paths2019 = glob(os.path.join('data/2019/','*'))\n",
    "file_paths2018 = glob(os.path.join('data/2018/','*'))\n",
    "\n",
    "file_paths = file_paths2023 + file_paths2022 + file_paths2021 + file_paths2020 + file_paths2019 + file_paths2018\n",
    "\n",
    "# Initialize a list to store data from each file\n",
    "all_data = []\n",
    "\n",
    "# Loop through each file and load data\n",
    "for file_path in file_paths:\n",
    "    with open(file_path, 'r', encoding='utf-8') as f:\n",
    "        data = json.load(f)\n",
    "        all_data.append(data)"
   ]
  },
  {
   "cell_type": "code",
   "execution_count": 14,
   "metadata": {},
   "outputs": [
    {
     "data": {
      "text/html": [
       "<div>\n",
       "<style scoped>\n",
       "    .dataframe tbody tr th:only-of-type {\n",
       "        vertical-align: middle;\n",
       "    }\n",
       "\n",
       "    .dataframe tbody tr th {\n",
       "        vertical-align: top;\n",
       "    }\n",
       "\n",
       "    .dataframe thead th {\n",
       "        text-align: right;\n",
       "    }\n",
       "</style>\n",
       "<table border=\"1\" class=\"dataframe\">\n",
       "  <thead>\n",
       "    <tr style=\"text-align: right;\">\n",
       "      <th></th>\n",
       "      <th>title</th>\n",
       "      <th>code</th>\n",
       "    </tr>\n",
       "  </thead>\n",
       "  <tbody>\n",
       "    <tr>\n",
       "      <th>0</th>\n",
       "      <td>graphene oxide-alginate hydrogel-based indicat...</td>\n",
       "      <td>1315</td>\n",
       "    </tr>\n",
       "    <tr>\n",
       "      <th>1</th>\n",
       "      <td>graphene oxide-alginate hydrogel-based indicat...</td>\n",
       "      <td>1303</td>\n",
       "    </tr>\n",
       "    <tr>\n",
       "      <th>2</th>\n",
       "      <td>graphene oxide-alginate hydrogel-based indicat...</td>\n",
       "      <td>1312</td>\n",
       "    </tr>\n",
       "    <tr>\n",
       "      <th>3</th>\n",
       "      <td>rare coordination behavior of triethanolamine ...</td>\n",
       "      <td>1602</td>\n",
       "    </tr>\n",
       "    <tr>\n",
       "      <th>4</th>\n",
       "      <td>rare coordination behavior of triethanolamine ...</td>\n",
       "      <td>1607</td>\n",
       "    </tr>\n",
       "    <tr>\n",
       "      <th>5</th>\n",
       "      <td>rare coordination behavior of triethanolamine ...</td>\n",
       "      <td>1605</td>\n",
       "    </tr>\n",
       "    <tr>\n",
       "      <th>6</th>\n",
       "      <td>rare coordination behavior of triethanolamine ...</td>\n",
       "      <td>1604</td>\n",
       "    </tr>\n",
       "    <tr>\n",
       "      <th>7</th>\n",
       "      <td>total ammonia nitrogen removal and microbial c...</td>\n",
       "      <td>1104</td>\n",
       "    </tr>\n",
       "    <tr>\n",
       "      <th>8</th>\n",
       "      <td>effects of microaeration and sludge recirculat...</td>\n",
       "      <td>2305</td>\n",
       "    </tr>\n",
       "    <tr>\n",
       "      <th>9</th>\n",
       "      <td>effects of microaeration and sludge recirculat...</td>\n",
       "      <td>2304</td>\n",
       "    </tr>\n",
       "  </tbody>\n",
       "</table>\n",
       "</div>"
      ],
      "text/plain": [
       "                                               title  code\n",
       "0  graphene oxide-alginate hydrogel-based indicat...  1315\n",
       "1  graphene oxide-alginate hydrogel-based indicat...  1303\n",
       "2  graphene oxide-alginate hydrogel-based indicat...  1312\n",
       "3  rare coordination behavior of triethanolamine ...  1602\n",
       "4  rare coordination behavior of triethanolamine ...  1607\n",
       "5  rare coordination behavior of triethanolamine ...  1605\n",
       "6  rare coordination behavior of triethanolamine ...  1604\n",
       "7  total ammonia nitrogen removal and microbial c...  1104\n",
       "8  effects of microaeration and sludge recirculat...  2305\n",
       "9  effects of microaeration and sludge recirculat...  2304"
      ]
     },
     "execution_count": 14,
     "metadata": {},
     "output_type": "execute_result"
    }
   ],
   "source": [
    "# Initialize a list to hold extracted data\n",
    "subject_data = []\n",
    "\n",
    "# Loop through each loaded JSON data and extract relevant fields\n",
    "for data in all_data:\n",
    "    response = data.get('abstracts-retrieval-response', {})\n",
    "    coredata = response.get('coredata', {})\n",
    "    title = coredata.get('dc:title', '').replace(',', '').replace('\"', '').replace(\"'\", '')\n",
    "    subject_areas = response.get('subject-areas', {})\n",
    "    subject_area = subject_areas.get(\"subject-area\", [])\n",
    "    \n",
    "    for area in subject_area:\n",
    "        subject_data.append({\n",
    "            'title': title.lower(),\n",
    "            'code': area.get('@code', '').replace(',', '').replace('\"', '').replace(\"'\", ''),\n",
    "        })\n",
    "\n",
    "# Convert to DataFrame\n",
    "df_subject = pd.DataFrame(subject_data)\n",
    "df_subject.head(10)"
   ]
  },
  {
   "cell_type": "code",
   "execution_count": 8,
   "metadata": {},
   "outputs": [
    {
     "data": {
      "text/plain": [
       "(50064, 2)"
      ]
     },
     "execution_count": 8,
     "metadata": {},
     "output_type": "execute_result"
    }
   ],
   "source": [
    "df_subject.shape"
   ]
  },
  {
   "cell_type": "code",
   "execution_count": 15,
   "metadata": {},
   "outputs": [
    {
     "data": {
      "text/html": [
       "<div>\n",
       "<style scoped>\n",
       "    .dataframe tbody tr th:only-of-type {\n",
       "        vertical-align: middle;\n",
       "    }\n",
       "\n",
       "    .dataframe tbody tr th {\n",
       "        vertical-align: top;\n",
       "    }\n",
       "\n",
       "    .dataframe thead th {\n",
       "        text-align: right;\n",
       "    }\n",
       "</style>\n",
       "<table border=\"1\" class=\"dataframe\">\n",
       "  <thead>\n",
       "    <tr style=\"text-align: right;\">\n",
       "      <th></th>\n",
       "      <th>title</th>\n",
       "      <th>code</th>\n",
       "    </tr>\n",
       "  </thead>\n",
       "  <tbody>\n",
       "    <tr>\n",
       "      <th>count</th>\n",
       "      <td>50064</td>\n",
       "      <td>50064</td>\n",
       "    </tr>\n",
       "    <tr>\n",
       "      <th>unique</th>\n",
       "      <td>20127</td>\n",
       "      <td>321</td>\n",
       "    </tr>\n",
       "    <tr>\n",
       "      <th>top</th>\n",
       "      <td>preface</td>\n",
       "      <td>1000</td>\n",
       "    </tr>\n",
       "    <tr>\n",
       "      <th>freq</th>\n",
       "      <td>44</td>\n",
       "      <td>1088</td>\n",
       "    </tr>\n",
       "  </tbody>\n",
       "</table>\n",
       "</div>"
      ],
      "text/plain": [
       "          title   code\n",
       "count     50064  50064\n",
       "unique    20127    321\n",
       "top     preface   1000\n",
       "freq         44   1088"
      ]
     },
     "execution_count": 15,
     "metadata": {},
     "output_type": "execute_result"
    }
   ],
   "source": [
    "df_subject.describe()"
   ]
  },
  {
   "cell_type": "code",
   "execution_count": 16,
   "metadata": {},
   "outputs": [
    {
     "data": {
      "text/plain": [
       "(49938, 2)"
      ]
     },
     "execution_count": 16,
     "metadata": {},
     "output_type": "execute_result"
    }
   ],
   "source": [
    "df_subject = df_subject.drop_duplicates()\n",
    "df_subject.shape"
   ]
  },
  {
   "cell_type": "code",
   "execution_count": 17,
   "metadata": {},
   "outputs": [
    {
     "data": {
      "text/html": [
       "<div>\n",
       "<style scoped>\n",
       "    .dataframe tbody tr th:only-of-type {\n",
       "        vertical-align: middle;\n",
       "    }\n",
       "\n",
       "    .dataframe tbody tr th {\n",
       "        vertical-align: top;\n",
       "    }\n",
       "\n",
       "    .dataframe thead th {\n",
       "        text-align: right;\n",
       "    }\n",
       "</style>\n",
       "<table border=\"1\" class=\"dataframe\">\n",
       "  <thead>\n",
       "    <tr style=\"text-align: right;\">\n",
       "      <th></th>\n",
       "      <th>title</th>\n",
       "      <th>code</th>\n",
       "    </tr>\n",
       "  </thead>\n",
       "  <tbody>\n",
       "    <tr>\n",
       "      <th>0</th>\n",
       "      <td>graphene oxide-alginate hydrogel-based indicat...</td>\n",
       "      <td>1315</td>\n",
       "    </tr>\n",
       "    <tr>\n",
       "      <th>1</th>\n",
       "      <td>graphene oxide-alginate hydrogel-based indicat...</td>\n",
       "      <td>1303</td>\n",
       "    </tr>\n",
       "    <tr>\n",
       "      <th>2</th>\n",
       "      <td>graphene oxide-alginate hydrogel-based indicat...</td>\n",
       "      <td>1312</td>\n",
       "    </tr>\n",
       "    <tr>\n",
       "      <th>3</th>\n",
       "      <td>rare coordination behavior of triethanolamine ...</td>\n",
       "      <td>1602</td>\n",
       "    </tr>\n",
       "    <tr>\n",
       "      <th>4</th>\n",
       "      <td>rare coordination behavior of triethanolamine ...</td>\n",
       "      <td>1607</td>\n",
       "    </tr>\n",
       "    <tr>\n",
       "      <th>5</th>\n",
       "      <td>rare coordination behavior of triethanolamine ...</td>\n",
       "      <td>1605</td>\n",
       "    </tr>\n",
       "    <tr>\n",
       "      <th>6</th>\n",
       "      <td>rare coordination behavior of triethanolamine ...</td>\n",
       "      <td>1604</td>\n",
       "    </tr>\n",
       "    <tr>\n",
       "      <th>7</th>\n",
       "      <td>total ammonia nitrogen removal and microbial c...</td>\n",
       "      <td>1104</td>\n",
       "    </tr>\n",
       "    <tr>\n",
       "      <th>8</th>\n",
       "      <td>effects of microaeration and sludge recirculat...</td>\n",
       "      <td>2305</td>\n",
       "    </tr>\n",
       "    <tr>\n",
       "      <th>9</th>\n",
       "      <td>effects of microaeration and sludge recirculat...</td>\n",
       "      <td>2304</td>\n",
       "    </tr>\n",
       "  </tbody>\n",
       "</table>\n",
       "</div>"
      ],
      "text/plain": [
       "                                               title  code\n",
       "0  graphene oxide-alginate hydrogel-based indicat...  1315\n",
       "1  graphene oxide-alginate hydrogel-based indicat...  1303\n",
       "2  graphene oxide-alginate hydrogel-based indicat...  1312\n",
       "3  rare coordination behavior of triethanolamine ...  1602\n",
       "4  rare coordination behavior of triethanolamine ...  1607\n",
       "5  rare coordination behavior of triethanolamine ...  1605\n",
       "6  rare coordination behavior of triethanolamine ...  1604\n",
       "7  total ammonia nitrogen removal and microbial c...  1104\n",
       "8  effects of microaeration and sludge recirculat...  2305\n",
       "9  effects of microaeration and sludge recirculat...  2304"
      ]
     },
     "execution_count": 17,
     "metadata": {},
     "output_type": "execute_result"
    }
   ],
   "source": [
    "df_subject = df_subject.reset_index(drop=True)\n",
    "df_subject.head(10)"
   ]
  },
  {
   "cell_type": "code",
   "execution_count": 18,
   "metadata": {},
   "outputs": [
    {
     "data": {
      "text/plain": [
       "title    0\n",
       "code     0\n",
       "dtype: int64"
      ]
     },
     "execution_count": 18,
     "metadata": {},
     "output_type": "execute_result"
    }
   ],
   "source": [
    "df_subject.isna().sum()"
   ]
  },
  {
   "cell_type": "code",
   "execution_count": 19,
   "metadata": {},
   "outputs": [],
   "source": [
    "df_subject.to_csv('data/title_and_subject_code.csv', index=False)"
   ]
  }
 ],
 "metadata": {
  "kernelspec": {
   "display_name": "Python 3",
   "language": "python",
   "name": "python3"
  },
  "language_info": {
   "codemirror_mode": {
    "name": "ipython",
    "version": 3
   },
   "file_extension": ".py",
   "mimetype": "text/x-python",
   "name": "python",
   "nbconvert_exporter": "python",
   "pygments_lexer": "ipython3",
   "version": "3.11.9"
  }
 },
 "nbformat": 4,
 "nbformat_minor": 2
}
