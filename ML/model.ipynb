{
 "cells": [
  {
   "cell_type": "code",
   "execution_count": null,
   "metadata": {},
   "outputs": [],
   "source": [
    "from pyspark.sql import SparkSession\n",
    "import os\n",
    "\n",
    "os.environ[\"PYSPARK_PYTHON\"] = \"/usr/bin/python3\"\n",
    "\n",
    "spark = SparkSession.builder \\\n",
    "    .appName(\"SearchEngine\") \\\n",
    "    .getOrCreate()\n"
   ]
  },
  {
   "cell_type": "code",
   "execution_count": null,
   "metadata": {},
   "outputs": [],
   "source": [
    "from pyspark.sql.functions import col\n",
    "\n",
    "paperDF = spark.read.csv('data/data_cleaned.csv', header=True, inferSchema=True)\n",
    "\n",
    "paperDF = paperDF.withColumn(\"citedby_count\", col(\"citedby_count\").cast(\"int\"))\n",
    "\n",
    "paperDF.printSchema()"
   ]
  },
  {
   "cell_type": "code",
   "execution_count": null,
   "metadata": {},
   "outputs": [],
   "source": [
    "from pyspark.sql.functions import concat_ws\n",
    "\n",
    "# Combine fields into a single search_text column\n",
    "df = paperDF.withColumn(\"search_text\", concat_ws(\" \", \"title\", \"subject_codes\", \"abstract\", \"keywords\"))\n",
    "df.select(\"search_text\").show(truncate=False)\n"
   ]
  },
  {
   "cell_type": "code",
   "execution_count": null,
   "metadata": {},
   "outputs": [],
   "source": [
    "from sentence_transformers import SentenceTransformer\n",
    "\n",
    "# Load the Sentence Transformers model\n",
    "model = SentenceTransformer('sentence-transformers/all-MiniLM-L6-v2')\n",
    "\n",
    "def generate_embedding(text):\n",
    "    return model.encode(text).tolist()"
   ]
  },
  {
   "cell_type": "code",
   "execution_count": null,
   "metadata": {},
   "outputs": [],
   "source": [
    "# Convert Spark DataFrame to Pandas\n",
    "df_pandas = df.toPandas()\n",
    "\n",
    "# Apply the embedding function to the search_text column\n",
    "df_pandas[\"embedding\"] = df_pandas[\"search_text\"].apply(generate_embedding)"
   ]
  },
  {
   "cell_type": "code",
   "execution_count": null,
   "metadata": {},
   "outputs": [],
   "source": [
    "import numpy as np\n",
    "\n",
    "# Function to convert list to float16\n",
    "def convert_to_float16(embedding_list):\n",
    "    # Convert the list to float16\n",
    "    return np.array(embedding_list, dtype=np.float16).tolist()\n",
    "\n",
    "# Apply the conversion to the \"embedding\" column\n",
    "df_pandas[\"embedding\"] = df_pandas[\"embedding\"].apply(convert_to_float16)\n",
    "\n",
    "# Save the data to Parquet with Snappy compression\n",
    "df_pandas.to_parquet(\"data/data_with_embeddings.parquet\", compression=\"snappy\", index=False)\n"
   ]
  }
 ],
 "metadata": {
  "kernelspec": {
   "display_name": "Python 3",
   "language": "python",
   "name": "python3"
  },
  "language_info": {
   "codemirror_mode": {
    "name": "ipython",
    "version": 3
   },
   "file_extension": ".py",
   "mimetype": "text/x-python",
   "name": "python",
   "nbconvert_exporter": "python",
   "pygments_lexer": "ipython3",
   "version": "3.10.11"
  }
 },
 "nbformat": 4,
 "nbformat_minor": 2
}
